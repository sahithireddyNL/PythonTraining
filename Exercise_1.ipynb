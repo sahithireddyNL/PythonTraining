{
 "cells": [
  {
   "cell_type": "code",
   "execution_count": 3,
   "id": "c963f7b0-617b-47c9-bb2f-8228efa7c23a",
   "metadata": {},
   "outputs": [],
   "source": [
    "import csv\n",
    "import math\n",
    "\n",
    "with open('sales_24.csv', mode='r', newline='', encoding='utf-8') as infile, \\\n",
    "     open('sales_updated.csv', mode='w', newline='', encoding='utf-8') as outfile:\n",
    "    \n",
    "    reader = csv.DictReader(infile)\n",
    "    fieldnames = reader.fieldnames\n",
    "    writer = csv.DictWriter(outfile, fieldnames=fieldnames)\n",
    "    \n",
    "    writer.writeheader()\n",
    "    \n",
    "    for row in reader:\n",
    "        amount = row['Amount']\n",
    "        \n",
    "        # Check if Amount is present and is a valid number\n",
    "        if amount.strip():\n",
    "            try:\n",
    "                row['Amount'] = str(math.floor(float(amount)))\n",
    "            except ValueError:\n",
    "                # Keep the original value if it's not a valid number\n",
    "                pass\n",
    "        \n",
    "        # Write the updated (or original) row to the new file\n",
    "        writer.writerow(row)\n"
   ]
  },
  {
   "cell_type": "code",
   "execution_count": null,
   "id": "b83a6757-402e-4fda-a13d-2a1bf29aba52",
   "metadata": {},
   "outputs": [],
   "source": []
  }
 ],
 "metadata": {
  "kernelspec": {
   "display_name": "Python 3 (ipykernel)",
   "language": "python",
   "name": "python3"
  },
  "language_info": {
   "codemirror_mode": {
    "name": "ipython",
    "version": 3
   },
   "file_extension": ".py",
   "mimetype": "text/x-python",
   "name": "python",
   "nbconvert_exporter": "python",
   "pygments_lexer": "ipython3",
   "version": "3.10.12"
  }
 },
 "nbformat": 4,
 "nbformat_minor": 5
}

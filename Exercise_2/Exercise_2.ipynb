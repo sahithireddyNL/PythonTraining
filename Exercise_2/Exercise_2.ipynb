{
 "cells": [
  {
   "cell_type": "code",
   "execution_count": 4,
   "id": "c963f7b0-617b-47c9-bb2f-8228efa7c23a",
   "metadata": {},
   "outputs": [],
   "source": [
    "import csv\n",
    "import math\n",
    "\n",
    "with open('sales_24.csv', 'r') as infile, \\\n",
    "     open('sales_updated.csv', 'w', newline='') as outfile:\n",
    "    \n",
    "    reader = csv.DictReader(infile)\n",
    "    writer = csv.DictWriter(outfile, fieldnames=reader.fieldnames)\n",
    "    writer.writeheader()\n",
    "    \n",
    "    for row in reader:\n",
    "        try:\n",
    "            row['Amount'] = str(math.floor(float(row['Amount'])))\n",
    "        except (ValueError, TypeError):\n",
    "            pass  \n",
    "        \n",
    "        writer.writerow(row)\n"
   ]
  },
  {
   "cell_type": "code",
   "execution_count": 6,
   "id": "b83a6757-402e-4fda-a13d-2a1bf29aba52",
   "metadata": {},
   "outputs": [
    {
     "data": {
      "text/html": [
       "<div>\n",
       "<style scoped>\n",
       "    .dataframe tbody tr th:only-of-type {\n",
       "        vertical-align: middle;\n",
       "    }\n",
       "\n",
       "    .dataframe tbody tr th {\n",
       "        vertical-align: top;\n",
       "    }\n",
       "\n",
       "    .dataframe thead th {\n",
       "        text-align: right;\n",
       "    }\n",
       "</style>\n",
       "<table border=\"1\" class=\"dataframe\">\n",
       "  <thead>\n",
       "    <tr style=\"text-align: right;\">\n",
       "      <th></th>\n",
       "      <th>Date</th>\n",
       "      <th>Region</th>\n",
       "      <th>Product</th>\n",
       "      <th>Amount</th>\n",
       "      <th>Customer ID</th>\n",
       "    </tr>\n",
       "  </thead>\n",
       "  <tbody>\n",
       "    <tr>\n",
       "      <th>0</th>\n",
       "      <td>2024-01-07</td>\n",
       "      <td>North</td>\n",
       "      <td>D1-Shirt</td>\n",
       "      <td>1000.0</td>\n",
       "      <td>C001</td>\n",
       "    </tr>\n",
       "    <tr>\n",
       "      <th>1</th>\n",
       "      <td>15/01/2024</td>\n",
       "      <td>EAst</td>\n",
       "      <td>G2-Blazers</td>\n",
       "      <td>1200.0</td>\n",
       "      <td>C004</td>\n",
       "    </tr>\n",
       "    <tr>\n",
       "      <th>2</th>\n",
       "      <td>24/2/20</td>\n",
       "      <td>SOUTH</td>\n",
       "      <td>K3-Trousers</td>\n",
       "      <td>1500.0</td>\n",
       "      <td>C003</td>\n",
       "    </tr>\n",
       "    <tr>\n",
       "      <th>3</th>\n",
       "      <td>2024-02-13</td>\n",
       "      <td>West</td>\n",
       "      <td>D1Shirt</td>\n",
       "      <td>2000.0</td>\n",
       "      <td>C002</td>\n",
       "    </tr>\n",
       "    <tr>\n",
       "      <th>4</th>\n",
       "      <td>2024-03-19</td>\n",
       "      <td>South</td>\n",
       "      <td>D1-Shirt</td>\n",
       "      <td>NaN</td>\n",
       "      <td>C003</td>\n",
       "    </tr>\n",
       "    <tr>\n",
       "      <th>5</th>\n",
       "      <td>13/3/24</td>\n",
       "      <td>NaN</td>\n",
       "      <td>G2-Blazers</td>\n",
       "      <td>1800.0</td>\n",
       "      <td>C001</td>\n",
       "    </tr>\n",
       "    <tr>\n",
       "      <th>6</th>\n",
       "      <td>2024-04-03</td>\n",
       "      <td>South</td>\n",
       "      <td>K3-Trousers</td>\n",
       "      <td>NaN</td>\n",
       "      <td>C002</td>\n",
       "    </tr>\n",
       "    <tr>\n",
       "      <th>7</th>\n",
       "      <td>21/04/2024</td>\n",
       "      <td>East</td>\n",
       "      <td>G2-Blazers</td>\n",
       "      <td>2500.0</td>\n",
       "      <td>C004</td>\n",
       "    </tr>\n",
       "    <tr>\n",
       "      <th>8</th>\n",
       "      <td>2024-05-15</td>\n",
       "      <td>West</td>\n",
       "      <td>K3-Trousers</td>\n",
       "      <td>1500.0</td>\n",
       "      <td>C001</td>\n",
       "    </tr>\n",
       "    <tr>\n",
       "      <th>9</th>\n",
       "      <td>27/5/24</td>\n",
       "      <td>North</td>\n",
       "      <td>K3-Trousers</td>\n",
       "      <td>1500.0</td>\n",
       "      <td>C004</td>\n",
       "    </tr>\n",
       "    <tr>\n",
       "      <th>10</th>\n",
       "      <td>2024-06-16</td>\n",
       "      <td>South</td>\n",
       "      <td>D1-Shirt</td>\n",
       "      <td>3000.0</td>\n",
       "      <td>C003</td>\n",
       "    </tr>\n",
       "    <tr>\n",
       "      <th>11</th>\n",
       "      <td>2024-06-24</td>\n",
       "      <td>East</td>\n",
       "      <td>g2-Blazers</td>\n",
       "      <td>2000.0</td>\n",
       "      <td>C002</td>\n",
       "    </tr>\n",
       "  </tbody>\n",
       "</table>\n",
       "</div>"
      ],
      "text/plain": [
       "          Date Region      Product  Amount Customer ID\n",
       "0   2024-01-07  North     D1-Shirt  1000.0        C001\n",
       "1   15/01/2024   EAst   G2-Blazers  1200.0        C004\n",
       "2      24/2/20  SOUTH  K3-Trousers  1500.0        C003\n",
       "3   2024-02-13  West       D1Shirt  2000.0        C002\n",
       "4   2024-03-19  South     D1-Shirt     NaN        C003\n",
       "5      13/3/24    NaN   G2-Blazers  1800.0        C001\n",
       "6   2024-04-03  South  K3-Trousers     NaN        C002\n",
       "7   21/04/2024   East   G2-Blazers  2500.0        C004\n",
       "8   2024-05-15   West  K3-Trousers  1500.0        C001\n",
       "9      27/5/24  North  K3-Trousers  1500.0        C004\n",
       "10  2024-06-16  South     D1-Shirt  3000.0        C003\n",
       "11  2024-06-24   East   g2-Blazers  2000.0        C002"
      ]
     },
     "execution_count": 6,
     "metadata": {},
     "output_type": "execute_result"
    }
   ],
   "source": [
    "df = pd.read_csv(\"sales_updated.csv\")\n",
    "df"
   ]
  },
  {
   "cell_type": "code",
   "execution_count": 7,
   "id": "3aad1697-923b-427b-9728-e1b3179d2c63",
   "metadata": {},
   "outputs": [
    {
     "name": "stderr",
     "output_type": "stream",
     "text": [
      "/home/nineleaps/.local/lib/python3.10/site-packages/matplotlib/projections/__init__.py:63: UserWarning: Unable to import Axes3D. This may be due to multiple versions of Matplotlib being installed (e.g. as a system package and as a pip package). As a result, the 3D projection is not available.\n",
      "  warnings.warn(\"Unable to import Axes3D. This may be due to multiple versions of \"\n"
     ]
    },
    {
     "ename": "PyperclipException",
     "evalue": "\n    Pyperclip could not find a copy/paste mechanism for your system.\n    For more information, please visit\n    https://pyperclip.readthedocs.io/en/latest/index.html#not-implemented-error\n    ",
     "output_type": "error",
     "traceback": [
      "\u001b[0;31m---------------------------------------------------------------------------\u001b[0m",
      "\u001b[0;31mPyperclipException\u001b[0m                        Traceback (most recent call last)",
      "Cell \u001b[0;32mIn[7], line 5\u001b[0m\n\u001b[1;32m      2\u001b[0m \u001b[38;5;28;01mimport\u001b[39;00m\u001b[38;5;250m \u001b[39m\u001b[38;5;21;01mmatplotlib\u001b[39;00m\u001b[38;5;21;01m.\u001b[39;00m\u001b[38;5;21;01mpyplot\u001b[39;00m\u001b[38;5;250m \u001b[39m\u001b[38;5;28;01mas\u001b[39;00m\u001b[38;5;250m \u001b[39m\u001b[38;5;21;01mplt\u001b[39;00m\n\u001b[1;32m      4\u001b[0m \u001b[38;5;66;03m# Load data (already cleaned/rounded and read)\u001b[39;00m\n\u001b[0;32m----> 5\u001b[0m df \u001b[38;5;241m=\u001b[39m \u001b[43mpd\u001b[49m\u001b[38;5;241;43m.\u001b[39;49m\u001b[43mread_clipboard\u001b[49m\u001b[43m(\u001b[49m\u001b[43msep\u001b[49m\u001b[38;5;241;43m=\u001b[39;49m\u001b[38;5;124;43m\"\u001b[39;49m\u001b[38;5;130;43;01m\\t\u001b[39;49;00m\u001b[38;5;124;43m\"\u001b[39;49m\u001b[43m)\u001b[49m  \u001b[38;5;66;03m# Use read_csv('sales_24.csv') in actual code\u001b[39;00m\n\u001b[1;32m      7\u001b[0m \u001b[38;5;66;03m# --- Clean Region ---\u001b[39;00m\n\u001b[1;32m      8\u001b[0m df[\u001b[38;5;124m'\u001b[39m\u001b[38;5;124mRegion\u001b[39m\u001b[38;5;124m'\u001b[39m] \u001b[38;5;241m=\u001b[39m df[\u001b[38;5;124m'\u001b[39m\u001b[38;5;124mRegion\u001b[39m\u001b[38;5;124m'\u001b[39m]\u001b[38;5;241m.\u001b[39mstr\u001b[38;5;241m.\u001b[39mstrip()\u001b[38;5;241m.\u001b[39mstr\u001b[38;5;241m.\u001b[39mtitle()\n",
      "File \u001b[0;32m~/.local/lib/python3.10/site-packages/pandas/io/clipboards.py:86\u001b[0m, in \u001b[0;36mread_clipboard\u001b[0;34m(sep, dtype_backend, **kwargs)\u001b[0m\n\u001b[1;32m     83\u001b[0m \u001b[38;5;28;01mfrom\u001b[39;00m\u001b[38;5;250m \u001b[39m\u001b[38;5;21;01mpandas\u001b[39;00m\u001b[38;5;21;01m.\u001b[39;00m\u001b[38;5;21;01mio\u001b[39;00m\u001b[38;5;21;01m.\u001b[39;00m\u001b[38;5;21;01mclipboard\u001b[39;00m\u001b[38;5;250m \u001b[39m\u001b[38;5;28;01mimport\u001b[39;00m clipboard_get\n\u001b[1;32m     84\u001b[0m \u001b[38;5;28;01mfrom\u001b[39;00m\u001b[38;5;250m \u001b[39m\u001b[38;5;21;01mpandas\u001b[39;00m\u001b[38;5;21;01m.\u001b[39;00m\u001b[38;5;21;01mio\u001b[39;00m\u001b[38;5;21;01m.\u001b[39;00m\u001b[38;5;21;01mparsers\u001b[39;00m\u001b[38;5;250m \u001b[39m\u001b[38;5;28;01mimport\u001b[39;00m read_csv\n\u001b[0;32m---> 86\u001b[0m text \u001b[38;5;241m=\u001b[39m \u001b[43mclipboard_get\u001b[49m\u001b[43m(\u001b[49m\u001b[43m)\u001b[49m\n\u001b[1;32m     88\u001b[0m \u001b[38;5;66;03m# Try to decode (if needed, as \"text\" might already be a string here).\u001b[39;00m\n\u001b[1;32m     89\u001b[0m \u001b[38;5;28;01mtry\u001b[39;00m:\n",
      "File \u001b[0;32m~/.local/lib/python3.10/site-packages/pandas/io/clipboard/__init__.py:681\u001b[0m, in \u001b[0;36mlazy_load_stub_paste\u001b[0;34m()\u001b[0m\n\u001b[1;32m    679\u001b[0m \u001b[38;5;28;01mglobal\u001b[39;00m copy, paste\n\u001b[1;32m    680\u001b[0m copy, paste \u001b[38;5;241m=\u001b[39m determine_clipboard()\n\u001b[0;32m--> 681\u001b[0m \u001b[38;5;28;01mreturn\u001b[39;00m \u001b[43mpaste\u001b[49m\u001b[43m(\u001b[49m\u001b[43m)\u001b[49m\n",
      "File \u001b[0;32m~/.local/lib/python3.10/site-packages/pandas/io/clipboard/__init__.py:316\u001b[0m, in \u001b[0;36minit_no_clipboard.<locals>.ClipboardUnavailable.__call__\u001b[0;34m(self, *args, **kwargs)\u001b[0m\n\u001b[1;32m    315\u001b[0m \u001b[38;5;28;01mdef\u001b[39;00m\u001b[38;5;250m \u001b[39m\u001b[38;5;21m__call__\u001b[39m(\u001b[38;5;28mself\u001b[39m, \u001b[38;5;241m*\u001b[39margs, \u001b[38;5;241m*\u001b[39m\u001b[38;5;241m*\u001b[39mkwargs):\n\u001b[0;32m--> 316\u001b[0m     \u001b[38;5;28;01mraise\u001b[39;00m PyperclipException(EXCEPT_MSG)\n",
      "\u001b[0;31mPyperclipException\u001b[0m: \n    Pyperclip could not find a copy/paste mechanism for your system.\n    For more information, please visit\n    https://pyperclip.readthedocs.io/en/latest/index.html#not-implemented-error\n    "
     ]
    }
   ],
   "source": [
    "import pandas as pd\n",
    "import matplotlib.pyplot as plt\n",
    "\n",
    "df = pd.read_csv(\"\n",
    "\n",
    "# --- Clean Region ---\n",
    "df['Region'] = df['Region'].str.strip().str.title()\n",
    "\n",
    "# Get the valid region where Blazers are sold\n",
    "blazer_rows = df[df['Product'].str.contains('Blazers', case=False, na=False)]\n",
    "blazer_region = blazer_rows['Region'].dropna().mode()[0]\n",
    "\n",
    "# Fill missing Region values for Blazers\n",
    "df.loc[df['Region'].isna() & df['Product'].str.contains('Blazers', case=False, na=False), 'Region'] = blazer_region\n"
   ]
  },
  {
   "cell_type": "code",
   "execution_count": 8,
   "id": "34d0ad0e-a4c5-45cd-a129-3e6b9bf877aa",
   "metadata": {},
   "outputs": [
    {
     "name": "stdout",
     "output_type": "stream",
     "text": [
      "Month with highest sales:\n",
      " Month\n",
      "July    1000.0\n",
      "Name: Amount, dtype: float64\n"
     ]
    }
   ],
   "source": [
    "# Fix inconsistent dates\n",
    "df['Date'] = pd.to_datetime(df['Date'], dayfirst=True, errors='coerce')\n",
    "df['Month'] = df['Date'].dt.month_name()\n",
    "\n",
    "# Group by month\n",
    "monthly_sales = df.groupby('Month')['Amount'].sum().sort_values(ascending=False)\n",
    "print(\"Month with highest sales:\\n\", monthly_sales.head(1))\n"
   ]
  },
  {
   "cell_type": "code",
   "execution_count": 9,
   "id": "00d885ff-16f2-4b41-b19e-89871972d2c3",
   "metadata": {},
   "outputs": [
    {
     "data": {
      "image/png": "[encoded data removed]",
      "text/plain": [
       "<Figure size 640x480 with 1 Axes>"
      ]
     },
     "metadata": {},
     "output_type": "display_data"
    }
   ],
   "source": [
    "region_sales = df.groupby('Region')['Amount'].sum().sort_values(ascending=False)\n",
    "region_sales.plot(kind='bar', title='Region-wise Sales')\n",
    "plt.ylabel(\"Total Sales\")\n",
    "plt.show()\n"
   ]
  },
  {
   "cell_type": "code",
   "execution_count": null,
   "id": "6acc8f4e-51a7-4d3e-808a-ae9e4174a4b3",
   "metadata": {},
   "outputs": [],
   "source": [
    "monthly_sales.plot(kind='bar', title='Month-wise Sales')\n",
    "plt.ylabel(\"Total Sales\")\n",
    "plt.show()\n"
   ]
  }
 ],
 "metadata": {
  "kernelspec": {
   "display_name": "Python 3 (ipykernel)",
   "language": "python",
   "name": "python3"
  },
  "language_info": {
   "codemirror_mode": {
    "name": "ipython",
    "version": 3
   },
   "file_extension": ".py",
   "mimetype": "text/x-python",
   "name": "python",
   "nbconvert_exporter": "python",
   "pygments_lexer": "ipython3",
   "version": "3.10.12"
  }
 },
 "nbformat": 4,
 "nbformat_minor": 5
}
